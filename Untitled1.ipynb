{
 "cells": [
  {
   "cell_type": "code",
   "execution_count": 1,
   "id": "c5fa00f1",
   "metadata": {},
   "outputs": [],
   "source": [
    "class Dog:\n",
    "    def __init__(self, name, color, sound):\n",
    "        self.name = name\n",
    "        self.color = color\n",
    "        self.sound = sound\n",
    "        \n",
    "    def bark(self):\n",
    "        return self.sound + ' ' + self.sound"
   ]
  },
  {
   "cell_type": "code",
   "execution_count": 2,
   "id": "6c3b739a",
   "metadata": {},
   "outputs": [],
   "source": [
    "first_dog = Dog('Fido', 'brown', 'woof!')\n",
    "Ozzy = Dog('Ozzy', 'white', 'arf!')\n",
    "small_monster = Dog(\"Goose\", \"hairy brown and white thing\", \"Honk!\")"
   ]
  },
  {
   "cell_type": "code",
   "execution_count": 3,
   "id": "3b0fae98",
   "metadata": {},
   "outputs": [
    {
     "data": {
      "text/plain": [
       "'woof! woof!'"
      ]
     },
     "execution_count": 3,
     "metadata": {},
     "output_type": "execute_result"
    }
   ],
   "source": [
    "first_dog.bark()"
   ]
  },
  {
   "cell_type": "code",
   "execution_count": 4,
   "id": "1eff3b69",
   "metadata": {},
   "outputs": [
    {
     "data": {
      "text/plain": [
       "'arf! arf!'"
      ]
     },
     "execution_count": 4,
     "metadata": {},
     "output_type": "execute_result"
    }
   ],
   "source": [
    "Ozzy.bark()"
   ]
  },
  {
   "cell_type": "code",
   "execution_count": 7,
   "id": "5de3a230",
   "metadata": {},
   "outputs": [
    {
     "data": {
      "text/plain": [
       "'hairy brown and white thing'"
      ]
     },
     "execution_count": 7,
     "metadata": {},
     "output_type": "execute_result"
    }
   ],
   "source": [
    "small_monster.color"
   ]
  },
  {
   "cell_type": "code",
   "execution_count": 9,
   "id": "617dd704",
   "metadata": {},
   "outputs": [
    {
     "data": {
      "text/plain": [
       "<bound method Dog.bark of <__main__.Dog object at 0x000001F37F1549A0>>"
      ]
     },
     "execution_count": 9,
     "metadata": {},
     "output_type": "execute_result"
    }
   ],
   "source": [
    "small_monster.bark"
   ]
  },
  {
   "cell_type": "code",
   "execution_count": 11,
   "id": "bd0475c1",
   "metadata": {},
   "outputs": [
    {
     "data": {
      "text/plain": [
       "'Honk! Honk!'"
      ]
     },
     "execution_count": 11,
     "metadata": {},
     "output_type": "execute_result"
    }
   ],
   "source": [
    "small_monster.bark()"
   ]
  },
  {
   "cell_type": "code",
   "execution_count": 12,
   "id": "9be3cdf4",
   "metadata": {},
   "outputs": [
    {
     "data": {
      "text/plain": [
       "'Ozzy'"
      ]
     },
     "execution_count": 12,
     "metadata": {},
     "output_type": "execute_result"
    }
   ],
   "source": [
    "Ozzy.name"
   ]
  },
  {
   "cell_type": "code",
   "execution_count": 13,
   "id": "62012a93",
   "metadata": {},
   "outputs": [
    {
     "ename": "AttributeError",
     "evalue": "'Dog' object has no attribute 'self'",
     "output_type": "error",
     "traceback": [
      "\u001b[1;31m---------------------------------------------------------------------------\u001b[0m",
      "\u001b[1;31mAttributeError\u001b[0m                            Traceback (most recent call last)",
      "Input \u001b[1;32mIn [13]\u001b[0m, in \u001b[0;36m<cell line: 1>\u001b[1;34m()\u001b[0m\n\u001b[1;32m----> 1\u001b[0m \u001b[43msmall_monster\u001b[49m\u001b[38;5;241;43m.\u001b[39;49m\u001b[43mself\u001b[49m\n",
      "\u001b[1;31mAttributeError\u001b[0m: 'Dog' object has no attribute 'self'"
     ]
    }
   ],
   "source": [
    "small_monster.self"
   ]
  },
  {
   "cell_type": "code",
   "execution_count": 14,
   "id": "316b8339",
   "metadata": {},
   "outputs": [
    {
     "data": {
      "text/plain": [
       "'Goose'"
      ]
     },
     "execution_count": 14,
     "metadata": {},
     "output_type": "execute_result"
    }
   ],
   "source": [
    "small_monster.name"
   ]
  }
 ],
 "metadata": {
  "kernelspec": {
   "display_name": "PythonData",
   "language": "python",
   "name": "pythondata"
  },
  "language_info": {
   "codemirror_mode": {
    "name": "ipython",
    "version": 3
   },
   "file_extension": ".py",
   "mimetype": "text/x-python",
   "name": "python",
   "nbconvert_exporter": "python",
   "pygments_lexer": "ipython3",
   "version": "3.9.12"
  }
 },
 "nbformat": 4,
 "nbformat_minor": 5
}
